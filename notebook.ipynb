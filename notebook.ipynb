{
 "cells": [
  {
   "cell_type": "code",
   "execution_count": 5,
   "metadata": {},
   "outputs": [],
   "source": [
    "from langchain.chat_models import ChatOpenAI\n",
    "import os\n",
    "import dotenv\n",
    "\n",
    "dotenv.load_dotenv()\n",
    "\n",
    "key = os.getenv('OPENAI_API_KEY')\n",
    "\n",
    "chat = ChatOpenAI(\n",
    "    model_name=\"gpt-3.5-turbo\" # 모델 이름\n",
    "    #, api_key=key # API 키\n",
    "    , temperature=0.1 # 창의력\n",
    "  )\n"
   ]
  },
  {
   "cell_type": "code",
   "execution_count": 51,
   "metadata": {},
   "outputs": [
    {
     "data": {
      "text/plain": [
       "AIMessage(content='한국과 일본 사이의 거리는 약 800km입니다. 저의 이름은 쳇! 입니다. 어떻게 도와드릴까요?')"
      ]
     },
     "execution_count": 51,
     "metadata": {},
     "output_type": "execute_result"
    }
   ],
   "source": [
    "from langchain.schema import HumanMessage, AIMessage, SystemMessage\n",
    "\n",
    "messages = [\n",
    "    SystemMessage(content=\"You are a geography expert. And you only reply in Korean.\"),\n",
    "    AIMessage(content=\"안녕하세요. 제 이름은 쳇! 입니다.\"),\n",
    "    HumanMessage(content=\"What is the distance between korea and japan?, What is your name?\")\n",
    "]\n",
    "\n",
    "chat.predict_messages(messages)"
   ]
  },
  {
   "cell_type": "code",
   "execution_count": 52,
   "metadata": {},
   "outputs": [
    {
     "data": {
      "text/plain": [
       "'The distance between Korea and Japan varies depending on the specific locations being measured. On average, the distance between Seoul, South Korea and Tokyo, Japan is approximately 1,100 kilometers (683 miles) when measured in a straight line. However, the actual distance can be longer when taking into account the specific points of departure and arrival, as well as the mode of transportation being used.'"
      ]
     },
     "execution_count": 52,
     "metadata": {},
     "output_type": "execute_result"
    }
   ],
   "source": [
    "# PromptTemplate 사용\n",
    "from langchain.prompts import PromptTemplate\n",
    "\n",
    "template = PromptTemplate.from_template(\"What is the distance between {country1} and {country2}\")\n",
    "prompt = template.format(country1 = \"Korea\", country2 = \"japan\")\n",
    "\n",
    "prompt = template.format(\n",
    "  country1 = \"Korea\",\n",
    "  country2 = \"Japan\"\n",
    ")\n",
    "\n",
    "chat.predict(prompt)"
   ]
  },
  {
   "cell_type": "code",
   "execution_count": 6,
   "metadata": {},
   "outputs": [
    {
     "data": {
      "text/plain": [
       "AIMessage(content='한국과 일본 사이의 거리는 약 800km입니다. 제 이름은 쳇! 입니다.')"
      ]
     },
     "execution_count": 6,
     "metadata": {},
     "output_type": "execute_result"
    }
   ],
   "source": [
    "# ChatPromptTemplate 사용\n",
    "from langchain.prompts import ChatPromptTemplate\n",
    "\n",
    "template = ChatPromptTemplate.from_messages(\n",
    "  [\n",
    "    (\"system\", \"You are a geography expert. And you only reply in {language}.\"),\n",
    "    (\"ai\", \"안녕하세요. 제 이름은 {name} 입니다.\"),\n",
    "    (\"human\", \"What is the distance between {country1} and {country2}?, Also, what is your name?\")\n",
    "  ]\n",
    ")\n",
    "\n",
    "prompt = template.format_messages(\n",
    "  language=\"Korean\"\n",
    "  , name=\"쳇!\"\n",
    "  , country1=\"Korea\"\n",
    "  , country2=\"Japan\"\n",
    ")\n",
    "\n",
    "chat.predict_messages(prompt)"
   ]
  },
  {
   "cell_type": "code",
   "execution_count": 9,
   "metadata": {},
   "outputs": [
    {
     "data": {
      "text/plain": [
       "['Heelow', 'how', 'are', 'you']"
      ]
     },
     "execution_count": 9,
     "metadata": {},
     "output_type": "execute_result"
    }
   ],
   "source": [
    "# OutputParser 사용\n",
    "from langchain.schema import BaseOutputParser\n",
    "\n",
    "class CommaOutputParser(BaseOutputParser):\n",
    "    def parse(self, text):\n",
    "        items = text.strip().split(\",\") # 앞 뒤 공백을 제거 후 \",\" 로 분리\n",
    "        return list(map(str.strip, items))\n",
    "      \n",
    "p = CommaOutputParser()\n",
    "\n",
    "p.parse(\"Heelow, how, are, you\")"
   ]
  },
  {
   "cell_type": "code",
   "execution_count": 18,
   "metadata": {},
   "outputs": [
    {
     "data": {
      "text/plain": [
       "['Pikachu',\n",
       " 'Charmander',\n",
       " 'Bulbasaur',\n",
       " 'Squirtle',\n",
       " 'Jigglypuff',\n",
       " 'Eevee',\n",
       " 'Snorlax',\n",
       " 'Mewtwo',\n",
       " 'Gengar',\n",
       " 'Lucario']"
      ]
     },
     "execution_count": 18,
     "metadata": {},
     "output_type": "execute_result"
    }
   ],
   "source": [
    "# LangChain expression language 사용\n",
    "from langchain.prompts import ChatPromptTemplate\n",
    "\n",
    "template = ChatPromptTemplate.from_messages(\n",
    "  [\n",
    "    (\"system\", \"You are list generatting machine. Everything you are asked \" + \n",
    "      \"will be answerd with a comma separated list of max {max_items}.\" + \n",
    "      \"Do not reply with anything else.\"),\n",
    "    (\"human\", \"{question}\"),\n",
    "  ]\n",
    ")\n",
    "\n",
    "# chain 으로 Chat, ChatPromptTemplate, OutputParser를 한 번에 작성 할 수 있다.\n",
    "chain = template | chat | CommaOutputParser()\n",
    "chain.invoke({\n",
    "  \"max_items\": 10,\n",
    "  \"question\": \"What are the Pocketmons?\"\n",
    "})\n"
   ]
  },
  {
   "cell_type": "code",
   "execution_count": 26,
   "metadata": {},
   "outputs": [
    {
     "name": "stdout",
     "output_type": "stream",
     "text": [
      "One of my favorite Indian dishes to make is Chicken Tikka Masala. It's a flavorful and creamy dish that is sure to impress your friends and family. Here's a simple recipe for you to try at home:\n",
      "\n",
      "Ingredients:\n",
      "- 1 lb boneless, skinless chicken breasts, cut into bite-sized pieces\n",
      "- 1 cup plain yogurt\n",
      "- 2 tbsp lemon juice\n",
      "- 2 tsp ground cumin\n",
      "- 2 tsp paprika\n",
      "- 1 tsp ground cinnamon\n",
      "- 1 tsp cayenne pepper\n",
      "- 1 tsp ground black pepper\n",
      "- 1 tsp salt\n",
      "- 1 tbsp grated fresh ginger\n",
      "- 3 cloves garlic, minced\n",
      "- 1 can (14 oz) tomato sauce\n",
      "- 1 cup heavy cream\n",
      "- 2 tbsp vegetable oil\n",
      "- Fresh cilantro, chopped (for garnish)\n",
      "- Cooked rice or naan bread (for serving)\n",
      "\n",
      "Instructions:\n",
      "1. In a large bowl, combine the yogurt, lemon juice, cumin, paprika, cinnamon, cayenne pepper, black pepper, salt, ginger, and garlic. Add the chicken pieces and toss to coat. Cover and refrigerate for at least 1 hour, or overnight for best results.\n",
      "\n",
      "2. In a large skillet, heat the vegetable oil over medium-high heat. Add the marinated chicken pieces and cook until browned on all sides, about 5-7 minutes.\n",
      "\n",
      "3. Stir in the tomato sauce and bring to a simmer. Reduce heat to low, cover, and cook for 15-20 minutes, or until the chicken is cooked through.\n",
      "\n",
      "4. Stir in the heavy cream and simmer for an additional 5 minutes.\n",
      "\n",
      "5. Serve the Chicken Tikka Masala over cooked rice or with naan bread. Garnish with fresh cilantro.\n",
      "\n",
      "Enjoy your delicious homemade Chicken Tikka Masala!To make a vegetarian version of Chicken Tikka Masala, you can replace the chicken with a plant-based protein such as tofu or seitan. Here's how you can modify the recipe:\n",
      "\n",
      "Ingredients:\n",
      "- 1 lb firm tofu or seitan, cut into bite-sized pieces\n",
      "- 1 cup plain yogurt (use dairy-free yogurt for a vegan option)\n",
      "- 2 tbsp lemon juice\n",
      "- 2 tsp ground cumin\n",
      "- 2 tsp paprika\n",
      "- 1 tsp ground cinnamon\n",
      "- 1 tsp cayenne pepper\n",
      "- 1 tsp ground black pepper\n",
      "- 1 tsp salt\n",
      "- 1 tbsp grated fresh ginger\n",
      "- 3 cloves garlic, minced\n",
      "- 1 can (14 oz) tomato sauce\n",
      "- 1 cup coconut cream (or dairy-free heavy cream alternative)\n",
      "- 2 tbsp vegetable oil\n",
      "- Fresh cilantro, chopped (for garnish)\n",
      "- Cooked rice or naan bread (for serving)\n",
      "\n",
      "Instructions:\n",
      "1. In a large bowl, combine the yogurt, lemon juice, cumin, paprika, cinnamon, cayenne pepper, black pepper, salt, ginger, and garlic. Add the tofu or seitan pieces and toss to coat. Cover and refrigerate for at least 1 hour, or overnight for best results.\n",
      "\n",
      "2. In a large skillet, heat the vegetable oil over medium-high heat. Add the marinated tofu or seitan pieces and cook until browned on all sides, about 5-7 minutes.\n",
      "\n",
      "3. Stir in the tomato sauce and bring to a simmer. Reduce heat to low, cover, and cook for 15-20 minutes, or until the tofu or seitan is heated through.\n",
      "\n",
      "4. Stir in the coconut cream and simmer for an additional 5 minutes.\n",
      "\n",
      "5. Serve the Vegetarian Tikka Masala over cooked rice or with naan bread. Garnish with fresh cilantro.\n",
      "\n",
      "Enjoy your delicious homemade Vegetarian Tikka Masala!"
     ]
    },
    {
     "data": {
      "text/plain": [
       "AIMessageChunk(content=\"To make a vegetarian version of Chicken Tikka Masala, you can replace the chicken with a plant-based protein such as tofu or seitan. Here's how you can modify the recipe:\\n\\nIngredients:\\n- 1 lb firm tofu or seitan, cut into bite-sized pieces\\n- 1 cup plain yogurt (use dairy-free yogurt for a vegan option)\\n- 2 tbsp lemon juice\\n- 2 tsp ground cumin\\n- 2 tsp paprika\\n- 1 tsp ground cinnamon\\n- 1 tsp cayenne pepper\\n- 1 tsp ground black pepper\\n- 1 tsp salt\\n- 1 tbsp grated fresh ginger\\n- 3 cloves garlic, minced\\n- 1 can (14 oz) tomato sauce\\n- 1 cup coconut cream (or dairy-free heavy cream alternative)\\n- 2 tbsp vegetable oil\\n- Fresh cilantro, chopped (for garnish)\\n- Cooked rice or naan bread (for serving)\\n\\nInstructions:\\n1. In a large bowl, combine the yogurt, lemon juice, cumin, paprika, cinnamon, cayenne pepper, black pepper, salt, ginger, and garlic. Add the tofu or seitan pieces and toss to coat. Cover and refrigerate for at least 1 hour, or overnight for best results.\\n\\n2. In a large skillet, heat the vegetable oil over medium-high heat. Add the marinated tofu or seitan pieces and cook until browned on all sides, about 5-7 minutes.\\n\\n3. Stir in the tomato sauce and bring to a simmer. Reduce heat to low, cover, and cook for 15-20 minutes, or until the tofu or seitan is heated through.\\n\\n4. Stir in the coconut cream and simmer for an additional 5 minutes.\\n\\n5. Serve the Vegetarian Tikka Masala over cooked rice or with naan bread. Garnish with fresh cilantro.\\n\\nEnjoy your delicious homemade Vegetarian Tikka Masala!\")"
      ]
     },
     "execution_count": 26,
     "metadata": {},
     "output_type": "execute_result"
    },
    {
     "ename": "",
     "evalue": "",
     "output_type": "error",
     "traceback": [
      "\u001b[1;31mThe Kernel crashed while executing code in the current cell or a previous cell. \n",
      "\u001b[1;31mPlease review the code in the cell(s) to identify a possible cause of the failure. \n",
      "\u001b[1;31mClick <a href='https://aka.ms/vscodeJupyterKernelCrash'>here</a> for more info. \n",
      "\u001b[1;31mView Jupyter <a href='command:jupyter.viewOutput'>log</a> for further details."
     ]
    }
   ],
   "source": [
    "from langchain.chat_models import ChatOpenAI\n",
    "from langchain.prompts import ChatPromptTemplate\n",
    "from langchain.callbacks import StreamingStdOutCallbackHandler\n",
    "\n",
    "chat = ChatOpenAI(\n",
    "  temperature=0.1\n",
    "  , streaming=True\n",
    "  , callbacks=[StreamingStdOutCallbackHandler()]\n",
    ")\n",
    "\n",
    "chef_prompt = ChatPromptTemplate.from_messages(\n",
    "  [\n",
    "    (\"system\", \"Your are world-class international chef. you create easy to follow recipies for any type of cusine with easy to find ingredients.\"),\n",
    "    (\"human\", \"I want to {cuisine} food.\")\n",
    "  ]\n",
    ")\n",
    "\n",
    "chef_chain = chef_prompt | chat\n",
    "\n",
    "veg_chef_prompt = ChatPromptTemplate.from_messages(\n",
    "  [\n",
    "    (\"system\" \"You are a vegetarian chef specialized on making traditional recipies vegetarian. You find alternative ingredients and explain their preparation. You don't radically modify the recipe. If there is no alternative for a food just say you don't know how to replace it.\"),\n",
    "    (\"human\", \"{recipe}\")\n",
    "  ]\n",
    ")\n",
    "\n",
    "veg_chain = veg_chef_prompt | chat\n",
    "\n",
    "final_chain = {\"recipe\" : chef_chain} | veg_chain\n",
    "\n",
    "final_chain.invoke({\n",
    "  \"cuisine\": \"indian\"\n",
    "})"
   ]
  },
  {
   "cell_type": "code",
   "execution_count": 2,
   "metadata": {},
   "outputs": [
    {
     "data": {
      "text/plain": [
       "'What is the capital of France'"
      ]
     },
     "execution_count": 2,
     "metadata": {},
     "output_type": "execute_result"
    },
    {
     "ename": "",
     "evalue": "",
     "output_type": "error",
     "traceback": [
      "\u001b[1;31mThe Kernel crashed while executing code in the current cell or a previous cell. \n",
      "\u001b[1;31mPlease review the code in the cell(s) to identify a possible cause of the failure. \n",
      "\u001b[1;31mClick <a href='https://aka.ms/vscodeJupyterKernelCrash'>here</a> for more info. \n",
      "\u001b[1;31mView Jupyter <a href='command:jupyter.viewOutput'>log</a> for further details."
     ]
    }
   ],
   "source": [
    "# PromptTemplate 사용 \n",
    "from langchain.chat_models import ChatOpenAI\n",
    "from langchain.prompts import PromptTemplate\n",
    "from langchain.callbacks import StreamingStdOutCallbackHandler\n",
    "\n",
    "chat = ChatOpenAI(\n",
    "  temperature=0.1\n",
    "  , streaming=True\n",
    "  , callbacks=[StreamingStdOutCallbackHandler()]\n",
    ")\n",
    "\n",
    "# 아래 주석된 코드와 동일한 코드이다.\n",
    "t = PromptTemplate.from_template(\"What is the capital of {country}\")\n",
    "\n",
    "# t = PromptTemplate(\n",
    "#   template=\"What is the capital of {country}?\",\n",
    "#   input_variables=[\"country\"],\n",
    "# )\n",
    "\n",
    "t.format(country=\"France\")"
   ]
  },
  {
   "cell_type": "code",
   "execution_count": null,
   "metadata": {},
   "outputs": [],
   "source": []
  },
  {
   "cell_type": "code",
   "execution_count": 7,
   "metadata": {},
   "outputs": [
    {
     "data": {
      "text/plain": [
       "'Human: What do you know about France?\\nAI: \\n      Here is what I know:\\n      Capital: Paris\\n      Language: French\\n      Food: Wine and Cheese\\n      Currency: Euro\\n    \\n\\nHuman: What do you know about Italy?\\nAI: \\n      I know this:\\n      Capital: Rome\\n      Language: Italian\\n      Food: Pizza and Pasta\\n      Currency: Euro\\n    \\n\\nHuman: What do you know about Greece?\\nAI: \\n      I know this:\\n      Capital: Athens\\n      Language: Greek\\n      Food: Souvlaki and Feta Cheese\\n      Currency: Euro\\n    \\n\\nHuman: What do you know about Korea?'"
      ]
     },
     "execution_count": 7,
     "metadata": {},
     "output_type": "execute_result"
    }
   ],
   "source": [
    "# FewShotPromptTemplate 사용, FewShot은 모델에서 예시를 준다는 뜻\n",
    "from langchain.chat_models import ChatOpenAI\n",
    "from langchain.prompts import PromptTemplate\n",
    "from langchain.prompts.few_shot import FewShotPromptTemplate\n",
    "from langchain.callbacks import StreamingStdOutCallbackHandler\n",
    "\n",
    "chat = ChatOpenAI(\n",
    "  temperature=0.1\n",
    "  , streaming=True\n",
    "  , callbacks=[StreamingStdOutCallbackHandler()]\n",
    ")\n",
    "\n",
    "# 우리가 원하는 답의 형태\n",
    "examples = [\n",
    "  {\n",
    "    \"question\": \"What do you know about France?\",\n",
    "    \"answer\": \"\"\"\n",
    "      Here is what I know:\n",
    "      Capital: Paris\n",
    "      Language: French\n",
    "      Food: Wine and Cheese\n",
    "      Currency: Euro\n",
    "    \"\"\",\n",
    "  },\n",
    "  {\n",
    "    \"question\": \"What do you know about Italy?\",\n",
    "    \"answer\": \"\"\"\n",
    "      I know this:\n",
    "      Capital: Rome\n",
    "      Language: Italian\n",
    "      Food: Pizza and Pasta\n",
    "      Currency: Euro\n",
    "    \"\"\",\n",
    "  },\n",
    "  {\n",
    "    \"question\": \"What do you know about Greece?\",\n",
    "    \"answer\": \"\"\"\n",
    "      I know this:\n",
    "      Capital: Athens\n",
    "      Language: Greek\n",
    "      Food: Souvlaki and Feta Cheese\n",
    "      Currency: Euro\n",
    "    \"\"\",\n",
    "  },\n",
    "]\n",
    "\n",
    "# 형식화 하기\n",
    "example_prompt = PromptTemplate.from_template(\"Human: {question}\\nAI: {answer}\")\n",
    "\n",
    "few_shot_prompt = FewShotPromptTemplate(\n",
    "  example_prompt=example_prompt,\n",
    "  examples=examples,\n",
    "  suffix=\"Human: What do you know about {country}?\", # 마지막에 내용 포함\n",
    "  input_variables=[\"country\"], # 입력받을 값 지정\n",
    ")\n",
    "\n",
    "# few_shot_prompt.format(country=\"Korea\")\n",
    "\n",
    "chain = few_shot_prompt | chat\n",
    "\n",
    "chain.invoke({\n",
    "  \"country\": \"Korea\"\n",
    "})"
   ]
  }
 ],
 "metadata": {
  "kernelspec": {
   "display_name": "env",
   "language": "python",
   "name": "python3"
  },
  "language_info": {
   "codemirror_mode": {
    "name": "ipython",
    "version": 3
   },
   "file_extension": ".py",
   "mimetype": "text/x-python",
   "name": "python",
   "nbconvert_exporter": "python",
   "pygments_lexer": "ipython3",
   "version": "3.11.6"
  }
 },
 "nbformat": 4,
 "nbformat_minor": 2
}
