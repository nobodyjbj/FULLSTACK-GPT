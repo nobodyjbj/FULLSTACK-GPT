{
 "cells": [
  {
   "cell_type": "code",
   "execution_count": 1,
   "metadata": {},
   "outputs": [
    {
     "name": "stderr",
     "output_type": "stream",
     "text": [
      "/Users/undefinedkosmos/ai/fullstack-gpt/env/lib/python3.11/site-packages/tqdm/auto.py:21: TqdmWarning: IProgress not found. Please update jupyter and ipywidgets. See https://ipywidgets.readthedocs.io/en/stable/user_install.html\n",
      "  from .autonotebook import tqdm as notebook_tqdm\n",
      "Using pad_token, but it is not set yet.\n",
      "Setting `pad_token_id` to `eos_token_id`:50256 for open-end generation.\n"
     ]
    },
    {
     "data": {
      "text/plain": [
       "'What is the meaning of apple, when can you pick it up?\\n\\nWhy do you always say?\\n\\nWhy come out with Apple Pie or Apple Cake?\\n\\nWhere are you from?\\n\\nWhat kind of a food is it?\\n\\nDo you eat'"
      ]
     },
     "execution_count": 1,
     "metadata": {},
     "output_type": "execute_result"
    }
   ],
   "source": [
    "from langchain_community.llms.huggingface_pipeline import HuggingFacePipeline\n",
    "from langchain.prompts import PromptTemplate\n",
    "\n",
    "prompt = PromptTemplate.from_template(\"What is the meaning of {word}\")\n",
    "\n",
    "llm = HuggingFacePipeline.from_model_id(\n",
    "    model_id=\"gpt2\",\n",
    "    task=\"text-generation\",\n",
    "    pipeline_kwargs={\n",
    "        \"max_new_tokens\": 50\n",
    "    }\n",
    ")\n",
    "\n",
    "chain = prompt | llm\n",
    "chain.invoke({\n",
    "    \"word\":\"apple\"\n",
    "})"
   ]
  },
  {
   "cell_type": "code",
   "execution_count": 2,
   "metadata": {},
   "outputs": [
    {
     "data": {
      "text/plain": [
       "'What is the meaning of apple in different cultures?\\nApples have been a part of human culture for thousands of years, and their meaning has varied across different cultures and societies. Here are some examples:\\nIn Western cultures, apples are often associated with wisdom, knowledge, and health. In Christian tradition, the apple is seen as a symbol of temptation and sin, as in the story of Adam and Eve. In Norse mythology, the apple is associated with the goddess Iðunn, who is said to have the power to grant eternal youth.\\nIn many Asian cultures, apples are seen as a symbol of good luck and prosperity. In Chinese culture, apples are associated with the goddess of mercy, Guanyin, and are often given as gifts to wish good fortune. In Japanese culture, apples are seen as a symbol of love and romance, and are often given as gifts to express affection.\\nIn some African cultures, apples are associated with fertility and childbirth. In Yoruba culture, apples are seen as a symbol of the goddess Yemaya, who is associated with fertility and motherhood.\\nIn many Indigenous cultures, apples are seen as a symbol of abundance and nourishment. In some Native American cultures, apples are associated with the spirit world and are used in ceremonies to honor'"
      ]
     },
     "execution_count": 2,
     "metadata": {},
     "output_type": "execute_result"
    }
   ],
   "source": [
    "from langchain_community.llms.huggingface_hub import HuggingFaceHub\n",
    "from langchain.prompts import PromptTemplate\n",
    "\n",
    "prompt = PromptTemplate.from_template(\"What is the meaning of {word}\")\n",
    "\n",
    "llm = HuggingFaceHub(\n",
    "    repo_id=\"meta-llama/Meta-Llama-3-8B-Instruct\",\n",
    "    model_kwargs={\n",
    "        \"max_new_tokens\": 250\n",
    "    }\n",
    ")\n",
    "\n",
    "chain = prompt | llm\n",
    "chain.invoke({\n",
    "    \"word\":\"apple\"\n",
    "})"
   ]
  },
  {
   "cell_type": "markdown",
   "metadata": {},
   "source": []
  }
 ],
 "metadata": {
  "kernelspec": {
   "display_name": "env",
   "language": "python",
   "name": "python3"
  },
  "language_info": {
   "codemirror_mode": {
    "name": "ipython",
    "version": 3
   },
   "file_extension": ".py",
   "mimetype": "text/x-python",
   "name": "python",
   "nbconvert_exporter": "python",
   "pygments_lexer": "ipython3",
   "version": "3.11.6"
  }
 },
 "nbformat": 4,
 "nbformat_minor": 2
}
