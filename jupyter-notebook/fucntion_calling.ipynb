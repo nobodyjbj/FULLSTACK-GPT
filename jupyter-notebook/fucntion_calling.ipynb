{
 "cells": [
  {
   "cell_type": "code",
   "execution_count": 10,
   "metadata": {},
   "outputs": [
    {
     "data": {
      "text/plain": [
       "{'lon': '126.9779', 'lat': '37.5665'}"
      ]
     },
     "execution_count": 10,
     "metadata": {},
     "output_type": "execute_result"
    },
    {
     "ename": "",
     "evalue": "",
     "output_type": "error",
     "traceback": [
      "\u001b[1;31mThe Kernel crashed while executing code in the current cell or a previous cell. \n",
      "\u001b[1;31mPlease review the code in the cell(s) to identify a possible cause of the failure. \n",
      "\u001b[1;31mClick <a href='https://aka.ms/vscodeJupyterKernelCrash'>here</a> for more info. \n",
      "\u001b[1;31mView Jupyter <a href='command:jupyter.viewOutput'>log</a> for further details."
     ]
    }
   ],
   "source": [
    "# 모델이 내가 작성한 함수를 호출해서 원하는 특정 모양과 형식의 output을 갖도록 강제하는 방법\n",
    "# GPT-3, GPT-4만 가능\n",
    "# 형태를 강제하는 방법 1. , prompt 예제, 2. function calling\n",
    "from langchain_openai import ChatOpenAI\n",
    "from langchain.prompts import PromptTemplate\n",
    "import json\n",
    "\n",
    "def get_weather(ion, lat):\n",
    "    print(\"call an api...\")\n",
    "\n",
    "function = {\n",
    "    \"name\": \"get_weather\",\n",
    "    \"description\": \"function that takes longitude and latitude to find the weather of a place\",\n",
    "    \"parameters\": {\n",
    "        \"type\": \"object\",\n",
    "        \"properties\": {\n",
    "            \"lon\": {\n",
    "                \"type\":\"string\",\n",
    "                \"description\":\"The longitude coordinate\"\n",
    "            },\n",
    "            \"lat\": {\n",
    "                \"type\":\"string\",\n",
    "                \"description\":\"The latitude coordinate\"\n",
    "            }\n",
    "        }\n",
    "    },\n",
    "    \"requested\":[\"lon\",\"lat\"],\n",
    "}\n",
    "\n",
    "llm = ChatOpenAI(temperature=0.1).bind(\n",
    "    function_call=\"auto\",functions=[function]\n",
    ")\n",
    "prompt = PromptTemplate.from_template(\"Who is the weather in {city}\")\n",
    "\n",
    "chain = prompt | llm\n",
    "\n",
    "response = chain.invoke({\"city\": \"seoul\"})\n",
    "response = response.additional_kwargs[\"function_call\"][\"arguments\"]\n",
    "\n",
    "json.loads(response)\n"
   ]
  }
 ],
 "metadata": {
  "kernelspec": {
   "display_name": "env",
   "language": "python",
   "name": "python3"
  },
  "language_info": {
   "codemirror_mode": {
    "name": "ipython",
    "version": 3
   },
   "file_extension": ".py",
   "mimetype": "text/x-python",
   "name": "python",
   "nbconvert_exporter": "python",
   "pygments_lexer": "ipython3",
   "version": "3.11.6"
  }
 },
 "nbformat": 4,
 "nbformat_minor": 2
}
